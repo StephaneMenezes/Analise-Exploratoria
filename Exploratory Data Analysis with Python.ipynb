{
 "cells": [
  {
   "cell_type": "markdown",
   "id": "88963d16",
   "metadata": {},
   "source": [
    "# Exploratory Data Analysis with Python"
   ]
  },
  {
   "cell_type": "markdown",
   "id": "cfdc93c6",
   "metadata": {},
   "source": [
    "In this script, we will perform exploratory data analysis using some Python libraries. The goal of this work is to understand the provided data and try to extract information that can generate insights."
   ]
  },
  {
   "cell_type": "markdown",
   "id": "9c5df6a8",
   "metadata": {},
   "source": [
    "The file used is a dataset available on Kaggle. The dataset contains information about customers of a fictional store and helps a company better understand its customers. The owner of a store obtains information about customers through membership cards."
   ]
  },
  {
   "cell_type": "code",
   "execution_count": 42,
   "id": "33f603ef",
   "metadata": {},
   "outputs": [],
   "source": [
    "#Importing libraries and the file\n",
    "\n",
    "import pandas as pd \n",
    "import matplotlib.pyplot as plt \n",
    "import seaborn as sns\n",
    "import numpy as np"
   ]
  },
  {
   "cell_type": "code",
   "execution_count": 4,
   "id": "73298d03",
   "metadata": {},
   "outputs": [],
   "source": [
    "df = pd.read_csv('Customers.csv')"
   ]
  },
  {
   "cell_type": "code",
   "execution_count": 5,
   "id": "cc5b817e",
   "metadata": {},
   "outputs": [
    {
     "data": {
      "text/html": [
       "<div>\n",
       "<style scoped>\n",
       "    .dataframe tbody tr th:only-of-type {\n",
       "        vertical-align: middle;\n",
       "    }\n",
       "\n",
       "    .dataframe tbody tr th {\n",
       "        vertical-align: top;\n",
       "    }\n",
       "\n",
       "    .dataframe thead th {\n",
       "        text-align: right;\n",
       "    }\n",
       "</style>\n",
       "<table border=\"1\" class=\"dataframe\">\n",
       "  <thead>\n",
       "    <tr style=\"text-align: right;\">\n",
       "      <th></th>\n",
       "      <th>CustomerID</th>\n",
       "      <th>Gender</th>\n",
       "      <th>Age</th>\n",
       "      <th>Annual Income ($)</th>\n",
       "      <th>Spending Score (1-100)</th>\n",
       "      <th>Profession</th>\n",
       "      <th>Work Experience</th>\n",
       "      <th>Family Size</th>\n",
       "    </tr>\n",
       "  </thead>\n",
       "  <tbody>\n",
       "    <tr>\n",
       "      <th>0</th>\n",
       "      <td>1</td>\n",
       "      <td>Male</td>\n",
       "      <td>19</td>\n",
       "      <td>15000</td>\n",
       "      <td>39</td>\n",
       "      <td>Healthcare</td>\n",
       "      <td>1</td>\n",
       "      <td>4</td>\n",
       "    </tr>\n",
       "    <tr>\n",
       "      <th>1</th>\n",
       "      <td>2</td>\n",
       "      <td>Male</td>\n",
       "      <td>21</td>\n",
       "      <td>35000</td>\n",
       "      <td>81</td>\n",
       "      <td>Engineer</td>\n",
       "      <td>3</td>\n",
       "      <td>3</td>\n",
       "    </tr>\n",
       "    <tr>\n",
       "      <th>2</th>\n",
       "      <td>3</td>\n",
       "      <td>Female</td>\n",
       "      <td>20</td>\n",
       "      <td>86000</td>\n",
       "      <td>6</td>\n",
       "      <td>Engineer</td>\n",
       "      <td>1</td>\n",
       "      <td>1</td>\n",
       "    </tr>\n",
       "    <tr>\n",
       "      <th>3</th>\n",
       "      <td>4</td>\n",
       "      <td>Female</td>\n",
       "      <td>23</td>\n",
       "      <td>59000</td>\n",
       "      <td>77</td>\n",
       "      <td>Lawyer</td>\n",
       "      <td>0</td>\n",
       "      <td>2</td>\n",
       "    </tr>\n",
       "    <tr>\n",
       "      <th>4</th>\n",
       "      <td>5</td>\n",
       "      <td>Female</td>\n",
       "      <td>31</td>\n",
       "      <td>38000</td>\n",
       "      <td>40</td>\n",
       "      <td>Entertainment</td>\n",
       "      <td>2</td>\n",
       "      <td>6</td>\n",
       "    </tr>\n",
       "  </tbody>\n",
       "</table>\n",
       "</div>"
      ],
      "text/plain": [
       "   CustomerID  Gender  Age  Annual Income ($)  Spending Score (1-100)  \\\n",
       "0           1    Male   19              15000                      39   \n",
       "1           2    Male   21              35000                      81   \n",
       "2           3  Female   20              86000                       6   \n",
       "3           4  Female   23              59000                      77   \n",
       "4           5  Female   31              38000                      40   \n",
       "\n",
       "      Profession  Work Experience  Family Size  \n",
       "0     Healthcare                1            4  \n",
       "1       Engineer                3            3  \n",
       "2       Engineer                1            1  \n",
       "3         Lawyer                0            2  \n",
       "4  Entertainment                2            6  "
      ]
     },
     "execution_count": 5,
     "metadata": {},
     "output_type": "execute_result"
    }
   ],
   "source": [
    "# Visualizing the first five lines of the file\n",
    "df.head()"
   ]
  },
  {
   "cell_type": "code",
   "execution_count": 8,
   "id": "9f99c6a6",
   "metadata": {},
   "outputs": [
    {
     "name": "stdout",
     "output_type": "stream",
     "text": [
      "<class 'pandas.core.frame.DataFrame'>\n",
      "RangeIndex: 2000 entries, 0 to 1999\n",
      "Data columns (total 8 columns):\n",
      " #   Column                  Non-Null Count  Dtype \n",
      "---  ------                  --------------  ----- \n",
      " 0   CustomerID              2000 non-null   int64 \n",
      " 1   Gender                  2000 non-null   object\n",
      " 2   Age                     2000 non-null   int64 \n",
      " 3   Annual Income ($)       2000 non-null   int64 \n",
      " 4   Spending Score (1-100)  2000 non-null   int64 \n",
      " 5   Profession              1965 non-null   object\n",
      " 6   Work Experience         2000 non-null   int64 \n",
      " 7   Family Size             2000 non-null   int64 \n",
      "dtypes: int64(6), object(2)\n",
      "memory usage: 125.1+ KB\n"
     ]
    }
   ],
   "source": [
    "#Checking information about the file\n",
    "\n",
    "df.info()"
   ]
  },
  {
   "cell_type": "markdown",
   "id": "1829fa94",
   "metadata": {},
   "source": [
    "The dataset consists of 2,000 records and 8 columns:\n",
    "\n",
    "* Customer ID\n",
    "* Gender \n",
    "* Age\n",
    "* Annual Income\n",
    "* Spending Score - Score assigned by the store based on customer behavior and spending nature\n",
    "* Profession\n",
    "* Years of Experience\n",
    "* Family Size"
   ]
  },
  {
   "cell_type": "code",
   "execution_count": 10,
   "id": "78f84cad",
   "metadata": {},
   "outputs": [
    {
     "data": {
      "text/html": [
       "<div>\n",
       "<style scoped>\n",
       "    .dataframe tbody tr th:only-of-type {\n",
       "        vertical-align: middle;\n",
       "    }\n",
       "\n",
       "    .dataframe tbody tr th {\n",
       "        vertical-align: top;\n",
       "    }\n",
       "\n",
       "    .dataframe thead th {\n",
       "        text-align: right;\n",
       "    }\n",
       "</style>\n",
       "<table border=\"1\" class=\"dataframe\">\n",
       "  <thead>\n",
       "    <tr style=\"text-align: right;\">\n",
       "      <th></th>\n",
       "      <th>CustomerID</th>\n",
       "      <th>Age</th>\n",
       "      <th>Annual Income ($)</th>\n",
       "      <th>Spending Score (1-100)</th>\n",
       "      <th>Work Experience</th>\n",
       "      <th>Family Size</th>\n",
       "    </tr>\n",
       "  </thead>\n",
       "  <tbody>\n",
       "    <tr>\n",
       "      <th>count</th>\n",
       "      <td>2000.000000</td>\n",
       "      <td>2000.000000</td>\n",
       "      <td>2000.000000</td>\n",
       "      <td>2000.000000</td>\n",
       "      <td>2000.000000</td>\n",
       "      <td>2000.000000</td>\n",
       "    </tr>\n",
       "    <tr>\n",
       "      <th>mean</th>\n",
       "      <td>1000.500000</td>\n",
       "      <td>48.960000</td>\n",
       "      <td>110731.821500</td>\n",
       "      <td>50.962500</td>\n",
       "      <td>4.102500</td>\n",
       "      <td>3.768500</td>\n",
       "    </tr>\n",
       "    <tr>\n",
       "      <th>std</th>\n",
       "      <td>577.494589</td>\n",
       "      <td>28.429747</td>\n",
       "      <td>45739.536688</td>\n",
       "      <td>27.934661</td>\n",
       "      <td>3.922204</td>\n",
       "      <td>1.970749</td>\n",
       "    </tr>\n",
       "    <tr>\n",
       "      <th>min</th>\n",
       "      <td>1.000000</td>\n",
       "      <td>0.000000</td>\n",
       "      <td>0.000000</td>\n",
       "      <td>0.000000</td>\n",
       "      <td>0.000000</td>\n",
       "      <td>1.000000</td>\n",
       "    </tr>\n",
       "    <tr>\n",
       "      <th>25%</th>\n",
       "      <td>500.750000</td>\n",
       "      <td>25.000000</td>\n",
       "      <td>74572.000000</td>\n",
       "      <td>28.000000</td>\n",
       "      <td>1.000000</td>\n",
       "      <td>2.000000</td>\n",
       "    </tr>\n",
       "    <tr>\n",
       "      <th>50%</th>\n",
       "      <td>1000.500000</td>\n",
       "      <td>48.000000</td>\n",
       "      <td>110045.000000</td>\n",
       "      <td>50.000000</td>\n",
       "      <td>3.000000</td>\n",
       "      <td>4.000000</td>\n",
       "    </tr>\n",
       "    <tr>\n",
       "      <th>75%</th>\n",
       "      <td>1500.250000</td>\n",
       "      <td>73.000000</td>\n",
       "      <td>149092.750000</td>\n",
       "      <td>75.000000</td>\n",
       "      <td>7.000000</td>\n",
       "      <td>5.000000</td>\n",
       "    </tr>\n",
       "    <tr>\n",
       "      <th>max</th>\n",
       "      <td>2000.000000</td>\n",
       "      <td>99.000000</td>\n",
       "      <td>189974.000000</td>\n",
       "      <td>100.000000</td>\n",
       "      <td>17.000000</td>\n",
       "      <td>9.000000</td>\n",
       "    </tr>\n",
       "  </tbody>\n",
       "</table>\n",
       "</div>"
      ],
      "text/plain": [
       "        CustomerID          Age  Annual Income ($)  Spending Score (1-100)  \\\n",
       "count  2000.000000  2000.000000        2000.000000             2000.000000   \n",
       "mean   1000.500000    48.960000      110731.821500               50.962500   \n",
       "std     577.494589    28.429747       45739.536688               27.934661   \n",
       "min       1.000000     0.000000           0.000000                0.000000   \n",
       "25%     500.750000    25.000000       74572.000000               28.000000   \n",
       "50%    1000.500000    48.000000      110045.000000               50.000000   \n",
       "75%    1500.250000    73.000000      149092.750000               75.000000   \n",
       "max    2000.000000    99.000000      189974.000000              100.000000   \n",
       "\n",
       "       Work Experience  Family Size  \n",
       "count      2000.000000  2000.000000  \n",
       "mean          4.102500     3.768500  \n",
       "std           3.922204     1.970749  \n",
       "min           0.000000     1.000000  \n",
       "25%           1.000000     2.000000  \n",
       "50%           3.000000     4.000000  \n",
       "75%           7.000000     5.000000  \n",
       "max          17.000000     9.000000  "
      ]
     },
     "execution_count": 10,
     "metadata": {},
     "output_type": "execute_result"
    }
   ],
   "source": [
    "#Summary statistics of our file\n",
    "\n",
    "df.describe()"
   ]
  },
  {
   "cell_type": "markdown",
   "id": "acee0986",
   "metadata": {},
   "source": [
    "We can observe the following information in our dataset:\n",
    "\n",
    "* Customers have an average age of 49 years, with a maximum age of 99 years and a minimum age of 0 years. Despite the extremes of maximum and minimum ages, we can see that 75% of the customers are around 73 years old, and only 25% of the customers are around 25 years old. Based on this data, we can understand that the majority of customers are composed of a more mature audience.\n",
    "* The average annual income is 110731 and the maximum is 189974.\n",
    "* The average family size is 4 people, and 75% of the dataset has a family size of 5 people.\n",
    "* The average spending score in the store is 50.96 points."
   ]
  },
  {
   "cell_type": "code",
   "execution_count": 56,
   "id": "ed7cda59",
   "metadata": {},
   "outputs": [
    {
     "data": {
      "text/html": [
       "<div>\n",
       "<style scoped>\n",
       "    .dataframe tbody tr th:only-of-type {\n",
       "        vertical-align: middle;\n",
       "    }\n",
       "\n",
       "    .dataframe tbody tr th {\n",
       "        vertical-align: top;\n",
       "    }\n",
       "\n",
       "    .dataframe thead th {\n",
       "        text-align: right;\n",
       "    }\n",
       "</style>\n",
       "<table border=\"1\" class=\"dataframe\">\n",
       "  <thead>\n",
       "    <tr style=\"text-align: right;\">\n",
       "      <th></th>\n",
       "      <th>CustomerID</th>\n",
       "      <th>Age</th>\n",
       "      <th>Annual Income ($)</th>\n",
       "      <th>Spending Score (1-100)</th>\n",
       "      <th>Work Experience</th>\n",
       "      <th>Family Size</th>\n",
       "    </tr>\n",
       "    <tr>\n",
       "      <th>Gender</th>\n",
       "      <th></th>\n",
       "      <th></th>\n",
       "      <th></th>\n",
       "      <th></th>\n",
       "      <th></th>\n",
       "      <th></th>\n",
       "    </tr>\n",
       "  </thead>\n",
       "  <tbody>\n",
       "    <tr>\n",
       "      <th>Female</th>\n",
       "      <td>998.338111</td>\n",
       "      <td>48.822934</td>\n",
       "      <td>110553.715008</td>\n",
       "      <td>50.974705</td>\n",
       "      <td>4.035413</td>\n",
       "      <td>3.768128</td>\n",
       "    </tr>\n",
       "    <tr>\n",
       "      <th>Male</th>\n",
       "      <td>1003.649877</td>\n",
       "      <td>49.159705</td>\n",
       "      <td>110991.323096</td>\n",
       "      <td>50.944717</td>\n",
       "      <td>4.200246</td>\n",
       "      <td>3.769042</td>\n",
       "    </tr>\n",
       "  </tbody>\n",
       "</table>\n",
       "</div>"
      ],
      "text/plain": [
       "         CustomerID        Age  Annual Income ($)  Spending Score (1-100)  \\\n",
       "Gender                                                                      \n",
       "Female   998.338111  48.822934      110553.715008               50.974705   \n",
       "Male    1003.649877  49.159705      110991.323096               50.944717   \n",
       "\n",
       "        Work Experience  Family Size  \n",
       "Gender                                \n",
       "Female         4.035413     3.768128  \n",
       "Male           4.200246     3.769042  "
      ]
     },
     "execution_count": 56,
     "metadata": {},
     "output_type": "execute_result"
    }
   ],
   "source": [
    "#Checking data by gender\n",
    "df.groupby('Gender').mean()"
   ]
  },
  {
   "cell_type": "code",
   "execution_count": 58,
   "id": "84033725",
   "metadata": {},
   "outputs": [
    {
     "data": {
      "image/png": "[encoded data removed]",
      "text/plain": [
       "<Figure size 432x288 with 1 Axes>"
      ]
     },
     "metadata": {},
     "output_type": "display_data"
    }
   ],
   "source": [
    "# Count the number of customers per gender\n",
    "gender_counts = df['Gender'].value_counts()\n",
    "\n",
    "# Create a figure with one subplot\n",
    "fig, ax = plt.subplots()\n",
    "\n",
    "# Define colors for the pie chart\n",
    "colors = ['#ff9999','#66b3ff']\n",
    "\n",
    "# Create the pie chart\n",
    "ax.pie(gender_counts, labels=gender_counts.index, autopct='%1.1f%%', startangle=90, colors=colors)\n",
    "\n",
    "# Add a circle at the center to make it a donut chart\n",
    "centre_circle = plt.Circle((0,0),0.70,fc='white')\n",
    "fig.gca().add_artist(centre_circle)\n",
    "\n",
    "# Add a title\n",
    "ax.set_title('Proportion of Customers by Gender')\n",
    "\n",
    "# Display the chart\n",
    "plt.show()"
   ]
  },
  {
   "cell_type": "code",
   "execution_count": 61,
   "id": "3bee223e",
   "metadata": {},
   "outputs": [
    {
     "data": {
      "image/png": "[encoded data removed]",
      "text/plain": [
       "<Figure size 432x288 with 1 Axes>"
      ]
     },
     "metadata": {
      "needs_background": "light"
     },
     "output_type": "display_data"
    }
   ],
   "source": [
    "# Group the data by profession and calculate the mean spending score for each group\n",
    "grouped = df.groupby('Gender')['Spending Score (1-100)'].mean()\n",
    "\n",
    "# Plot a bar chart with the grouped data\n",
    "bars = grouped.plot(kind='bar')\n",
    "\n",
    "# Set the title and axis labels\n",
    "plt.title('Average Spending Score by Gender')\n",
    "plt.xlabel('Gender')\n",
    "plt.ylabel('Average Spending Score')\n",
    "\n",
    "# Add labels to the bars\n",
    "for i, v in enumerate(grouped):\n",
    "    bars.text(i, v, \"{:.1f}\".format(v), ha='center', va='bottom')\n",
    "\n",
    "# Show the chart\n",
    "plt.show()"
   ]
  },
  {
   "cell_type": "markdown",
   "id": "8b6c3f7b",
   "metadata": {},
   "source": [
    "According to the graph, we can observe that despite the volume of women being higher than men, the average spending score according to the store's rating is quite similar."
   ]
  },
  {
   "cell_type": "code",
   "execution_count": 21,
   "id": "7d9dca3f",
   "metadata": {},
   "outputs": [
    {
     "data": {
      "text/html": [
       "<div>\n",
       "<style scoped>\n",
       "    .dataframe tbody tr th:only-of-type {\n",
       "        vertical-align: middle;\n",
       "    }\n",
       "\n",
       "    .dataframe tbody tr th {\n",
       "        vertical-align: top;\n",
       "    }\n",
       "\n",
       "    .dataframe thead th {\n",
       "        text-align: right;\n",
       "    }\n",
       "</style>\n",
       "<table border=\"1\" class=\"dataframe\">\n",
       "  <thead>\n",
       "    <tr style=\"text-align: right;\">\n",
       "      <th></th>\n",
       "      <th>CustomerID</th>\n",
       "      <th>Age</th>\n",
       "      <th>Annual Income ($)</th>\n",
       "      <th>Spending Score (1-100)</th>\n",
       "      <th>Work Experience</th>\n",
       "    </tr>\n",
       "    <tr>\n",
       "      <th>Family Size</th>\n",
       "      <th></th>\n",
       "      <th></th>\n",
       "      <th></th>\n",
       "      <th></th>\n",
       "      <th></th>\n",
       "    </tr>\n",
       "  </thead>\n",
       "  <tbody>\n",
       "    <tr>\n",
       "      <th>1</th>\n",
       "      <td>932.856187</td>\n",
       "      <td>46.949833</td>\n",
       "      <td>108752.377926</td>\n",
       "      <td>49.645485</td>\n",
       "      <td>4.130435</td>\n",
       "    </tr>\n",
       "    <tr>\n",
       "      <th>2</th>\n",
       "      <td>875.858726</td>\n",
       "      <td>48.714681</td>\n",
       "      <td>104697.354571</td>\n",
       "      <td>50.362881</td>\n",
       "      <td>3.814404</td>\n",
       "    </tr>\n",
       "    <tr>\n",
       "      <th>3</th>\n",
       "      <td>948.340836</td>\n",
       "      <td>45.627010</td>\n",
       "      <td>106412.514469</td>\n",
       "      <td>51.951768</td>\n",
       "      <td>4.180064</td>\n",
       "    </tr>\n",
       "    <tr>\n",
       "      <th>4</th>\n",
       "      <td>939.463668</td>\n",
       "      <td>51.920415</td>\n",
       "      <td>109476.148789</td>\n",
       "      <td>52.709343</td>\n",
       "      <td>4.262976</td>\n",
       "    </tr>\n",
       "    <tr>\n",
       "      <th>5</th>\n",
       "      <td>1106.302326</td>\n",
       "      <td>50.748062</td>\n",
       "      <td>114283.461240</td>\n",
       "      <td>52.178295</td>\n",
       "      <td>4.248062</td>\n",
       "    </tr>\n",
       "    <tr>\n",
       "      <th>6</th>\n",
       "      <td>1171.213992</td>\n",
       "      <td>50.152263</td>\n",
       "      <td>119060.242798</td>\n",
       "      <td>49.942387</td>\n",
       "      <td>4.000000</td>\n",
       "    </tr>\n",
       "    <tr>\n",
       "      <th>7</th>\n",
       "      <td>1147.017094</td>\n",
       "      <td>50.008547</td>\n",
       "      <td>118191.602564</td>\n",
       "      <td>49.991453</td>\n",
       "      <td>4.141026</td>\n",
       "    </tr>\n",
       "    <tr>\n",
       "      <th>8</th>\n",
       "      <td>217.000000</td>\n",
       "      <td>19.000000</td>\n",
       "      <td>78607.750000</td>\n",
       "      <td>49.250000</td>\n",
       "      <td>6.000000</td>\n",
       "    </tr>\n",
       "    <tr>\n",
       "      <th>9</th>\n",
       "      <td>151.000000</td>\n",
       "      <td>43.000000</td>\n",
       "      <td>30000.000000</td>\n",
       "      <td>17.000000</td>\n",
       "      <td>0.000000</td>\n",
       "    </tr>\n",
       "  </tbody>\n",
       "</table>\n",
       "</div>"
      ],
      "text/plain": [
       "              CustomerID        Age  Annual Income ($)  \\\n",
       "Family Size                                              \n",
       "1             932.856187  46.949833      108752.377926   \n",
       "2             875.858726  48.714681      104697.354571   \n",
       "3             948.340836  45.627010      106412.514469   \n",
       "4             939.463668  51.920415      109476.148789   \n",
       "5            1106.302326  50.748062      114283.461240   \n",
       "6            1171.213992  50.152263      119060.242798   \n",
       "7            1147.017094  50.008547      118191.602564   \n",
       "8             217.000000  19.000000       78607.750000   \n",
       "9             151.000000  43.000000       30000.000000   \n",
       "\n",
       "             Spending Score (1-100)  Work Experience  \n",
       "Family Size                                           \n",
       "1                         49.645485         4.130435  \n",
       "2                         50.362881         3.814404  \n",
       "3                         51.951768         4.180064  \n",
       "4                         52.709343         4.262976  \n",
       "5                         52.178295         4.248062  \n",
       "6                         49.942387         4.000000  \n",
       "7                         49.991453         4.141026  \n",
       "8                         49.250000         6.000000  \n",
       "9                         17.000000         0.000000  "
      ]
     },
     "execution_count": 21,
     "metadata": {},
     "output_type": "execute_result"
    }
   ],
   "source": [
    "#Checking data by profession\n",
    "df.groupby('Family Size').mean()"
   ]
  },
  {
   "cell_type": "code",
   "execution_count": 44,
   "id": "e48abb66",
   "metadata": {},
   "outputs": [
    {
     "data": {
      "image/png": "[encoded data removed]",
      "text/plain": [
       "<Figure size 432x288 with 1 Axes>"
      ]
     },
     "metadata": {
      "needs_background": "light"
     },
     "output_type": "display_data"
    }
   ],
   "source": [
    "# Set the size of the figure\n",
    "plt.figure(figsize=(6,4))\n",
    "\n",
    "# Set the title of the plot\n",
    "plt.title(\"Average Spending Score by Profession\")\n",
    "\n",
    "# Create the barplot with Seaborn\n",
    "sns.barplot(y=\"Profession\", x='Spending Score (1-100)', estimator=np.mean, ci=None, data=df)\n",
    "\n",
    "# Show the plot\n",
    "plt.show()"
   ]
  },
  {
   "cell_type": "markdown",
   "id": "57764f3a",
   "metadata": {},
   "source": [
    "According to the graph, the professions with higher spending scores are \"Artists\" and \"Entertainment\", while the professions with lower spending scores are \"Engineer\" and \"Lawyer\". It's worth noting that these pieces of information are based on the spending score assigned by the store, which may not necessarily be equivalent to actual spending."
   ]
  },
  {
   "cell_type": "code",
   "execution_count": 62,
   "id": "6d1c6f7d",
   "metadata": {},
   "outputs": [
    {
     "data": {
      "text/plain": [
       "Text(0, 0.5, 'Average Spending Score')"
      ]
     },
     "execution_count": 62,
     "metadata": {},
     "output_type": "execute_result"
    },
    {
     "data": {
      "image/png": "[encoded data removed]",
      "text/plain": [
       "<Figure size 432x288 with 1 Axes>"
      ]
     },
     "metadata": {
      "needs_background": "light"
     },
     "output_type": "display_data"
    }
   ],
   "source": [
    "# Group the data by profession and calculate the mean spending score for each group\n",
    "grouped = df.groupby('Family Size')['Spending Score (1-100)'].mean()\n",
    "\n",
    "# Plot a bar chart with the grouped data\n",
    "grouped.plot(kind='bar')\n",
    "\n",
    "# Set the title and axis labels\n",
    "plt.title('Average Spending Score by Family Size')\n",
    "plt.xlabel('Family Size')\n",
    "plt.ylabel('Average Spending Score')\n",
    "\n",
    "# Show the chart"
   ]
  },
  {
   "cell_type": "markdown",
   "id": "02dbb292",
   "metadata": {},
   "source": [
    "# Conclusions: \n",
    "\n",
    "Based on the data, we can conclude that:\n",
    "\n",
    "* The majority of customers are around 49 years old and have an average annual income of $110,731;\n",
    "* The average family size is 4 people;\n",
    "* The average spending score in the store is 50.96 points;\n",
    "* The spending score varies among different professions, with artists and entertainment professionals having higher scores and     engineers and lawyers having lower scores;\n",
    "* There is no significant difference in the average spending score between men and women, despite the higher number of women in   the dataset.\n",
    "* These conclusions can provide valuable insights to the store to help them make informed decisions regarding their marketing,     sales, and customer experience strategies."
   ]
  }
 ],
 "metadata": {
  "kernelspec": {
   "display_name": "Python 3 (ipykernel)",
   "language": "python",
   "name": "python3"
  },
  "language_info": {
   "codemirror_mode": {
    "name": "ipython",
    "version": 3
   },
   "file_extension": ".py",
   "mimetype": "text/x-python",
   "name": "python",
   "nbconvert_exporter": "python",
   "pygments_lexer": "ipython3",
   "version": "3.9.12"
  }
 },
 "nbformat": 4,
 "nbformat_minor": 5
}
